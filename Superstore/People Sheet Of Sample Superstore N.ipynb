{
 "cells": [
  {
   "cell_type": "code",
   "execution_count": 1,
   "id": "initial_id",
   "metadata": {
    "ExecuteTime": {
     "end_time": "2023-09-21T10:13:43.285703900Z",
     "start_time": "2023-09-21T10:13:42.645714700Z"
    }
   },
   "outputs": [],
   "source": [
    "import numpy as np\n",
    "import pandas as pd\n",
    "import matplotlib.pyplot as plt"
   ]
  },
  {
   "cell_type": "code",
   "execution_count": 2,
   "id": "a34e43b4fa88c389",
   "metadata": {
    "ExecuteTime": {
     "end_time": "2023-09-21T09:59:17.941106900Z",
     "start_time": "2023-09-21T09:59:09.541346900Z"
    }
   },
   "outputs": [
    {
     "name": "stdout",
     "output_type": "stream",
     "text": [
      "Collecting xlrd\n",
      "  Downloading xlrd-2.0.1-py2.py3-none-any.whl (96 kB)\n",
      "                                              0.0/96.5 kB ? eta -:--:--\n",
      "     ---------------------------------        81.9/96.5 kB 2.3 MB/s eta 0:00:01\n",
      "     ---------------------------------------- 96.5/96.5 kB 1.8 MB/s eta 0:00:00\n",
      "Installing collected packages: xlrd\n",
      "Successfully installed xlrd-2.0.1\n"
     ]
    }
   ],
   "source": [
    "!pip install xlrd"
   ]
  },
  {
   "cell_type": "code",
   "execution_count": 5,
   "id": "e91a8d8e0b74aa8",
   "metadata": {
    "ExecuteTime": {
     "end_time": "2023-09-21T10:09:27.701957500Z",
     "start_time": "2023-09-21T10:09:27.014921300Z"
    }
   },
   "outputs": [
    {
     "data": {
      "text/html": [
       "<div>\n",
       "<style scoped>\n",
       "    .dataframe tbody tr th:only-of-type {\n",
       "        vertical-align: middle;\n",
       "    }\n",
       "\n",
       "    .dataframe tbody tr th {\n",
       "        vertical-align: top;\n",
       "    }\n",
       "\n",
       "    .dataframe thead th {\n",
       "        text-align: right;\n",
       "    }\n",
       "</style>\n",
       "<table border=\"1\" class=\"dataframe\">\n",
       "  <thead>\n",
       "    <tr style=\"text-align: right;\">\n",
       "      <th></th>\n",
       "      <th>Row ID</th>\n",
       "      <th>Order ID</th>\n",
       "      <th>Order Date</th>\n",
       "      <th>Ship Date</th>\n",
       "      <th>Ship Mode</th>\n",
       "      <th>Customer ID</th>\n",
       "      <th>Customer Name</th>\n",
       "      <th>Segment</th>\n",
       "      <th>Country</th>\n",
       "      <th>City</th>\n",
       "      <th>...</th>\n",
       "      <th>Postal Code</th>\n",
       "      <th>Region</th>\n",
       "      <th>Product ID</th>\n",
       "      <th>Category</th>\n",
       "      <th>Sub-Category</th>\n",
       "      <th>Product Name</th>\n",
       "      <th>Sales</th>\n",
       "      <th>Quantity</th>\n",
       "      <th>Discount</th>\n",
       "      <th>Profit</th>\n",
       "    </tr>\n",
       "  </thead>\n",
       "  <tbody>\n",
       "    <tr>\n",
       "      <th>0</th>\n",
       "      <td>1</td>\n",
       "      <td>CA-2016-152156</td>\n",
       "      <td>2016-11-08</td>\n",
       "      <td>2016-11-11</td>\n",
       "      <td>Second Class</td>\n",
       "      <td>CG-12520</td>\n",
       "      <td>Claire Gute</td>\n",
       "      <td>Consumer</td>\n",
       "      <td>United States</td>\n",
       "      <td>Henderson</td>\n",
       "      <td>...</td>\n",
       "      <td>42420</td>\n",
       "      <td>South</td>\n",
       "      <td>FUR-BO-10001798</td>\n",
       "      <td>Furniture</td>\n",
       "      <td>Bookcases</td>\n",
       "      <td>Bush Somerset Collection Bookcase</td>\n",
       "      <td>261.9600</td>\n",
       "      <td>2</td>\n",
       "      <td>0.00</td>\n",
       "      <td>41.9136</td>\n",
       "    </tr>\n",
       "    <tr>\n",
       "      <th>1</th>\n",
       "      <td>2</td>\n",
       "      <td>CA-2016-152156</td>\n",
       "      <td>2016-11-08</td>\n",
       "      <td>2016-11-11</td>\n",
       "      <td>Second Class</td>\n",
       "      <td>CG-12520</td>\n",
       "      <td>Claire Gute</td>\n",
       "      <td>Consumer</td>\n",
       "      <td>United States</td>\n",
       "      <td>Henderson</td>\n",
       "      <td>...</td>\n",
       "      <td>42420</td>\n",
       "      <td>South</td>\n",
       "      <td>FUR-CH-10000454</td>\n",
       "      <td>Furniture</td>\n",
       "      <td>Chairs</td>\n",
       "      <td>Hon Deluxe Fabric Upholstered Stacking Chairs,...</td>\n",
       "      <td>731.9400</td>\n",
       "      <td>3</td>\n",
       "      <td>0.00</td>\n",
       "      <td>219.5820</td>\n",
       "    </tr>\n",
       "    <tr>\n",
       "      <th>2</th>\n",
       "      <td>3</td>\n",
       "      <td>CA-2016-138688</td>\n",
       "      <td>2016-06-12</td>\n",
       "      <td>2016-06-16</td>\n",
       "      <td>Second Class</td>\n",
       "      <td>DV-13045</td>\n",
       "      <td>Darrin Van Huff</td>\n",
       "      <td>Corporate</td>\n",
       "      <td>United States</td>\n",
       "      <td>Los Angeles</td>\n",
       "      <td>...</td>\n",
       "      <td>90036</td>\n",
       "      <td>West</td>\n",
       "      <td>OFF-LA-10000240</td>\n",
       "      <td>Office Supplies</td>\n",
       "      <td>Labels</td>\n",
       "      <td>Self-Adhesive Address Labels for Typewriters b...</td>\n",
       "      <td>14.6200</td>\n",
       "      <td>2</td>\n",
       "      <td>0.00</td>\n",
       "      <td>6.8714</td>\n",
       "    </tr>\n",
       "    <tr>\n",
       "      <th>3</th>\n",
       "      <td>4</td>\n",
       "      <td>US-2015-108966</td>\n",
       "      <td>2015-10-11</td>\n",
       "      <td>2015-10-18</td>\n",
       "      <td>Standard Class</td>\n",
       "      <td>SO-20335</td>\n",
       "      <td>Sean O'Donnell</td>\n",
       "      <td>Consumer</td>\n",
       "      <td>United States</td>\n",
       "      <td>Fort Lauderdale</td>\n",
       "      <td>...</td>\n",
       "      <td>33311</td>\n",
       "      <td>South</td>\n",
       "      <td>FUR-TA-10000577</td>\n",
       "      <td>Furniture</td>\n",
       "      <td>Tables</td>\n",
       "      <td>Bretford CR4500 Series Slim Rectangular Table</td>\n",
       "      <td>957.5775</td>\n",
       "      <td>5</td>\n",
       "      <td>0.45</td>\n",
       "      <td>-383.0310</td>\n",
       "    </tr>\n",
       "    <tr>\n",
       "      <th>4</th>\n",
       "      <td>5</td>\n",
       "      <td>US-2015-108966</td>\n",
       "      <td>2015-10-11</td>\n",
       "      <td>2015-10-18</td>\n",
       "      <td>Standard Class</td>\n",
       "      <td>SO-20335</td>\n",
       "      <td>Sean O'Donnell</td>\n",
       "      <td>Consumer</td>\n",
       "      <td>United States</td>\n",
       "      <td>Fort Lauderdale</td>\n",
       "      <td>...</td>\n",
       "      <td>33311</td>\n",
       "      <td>South</td>\n",
       "      <td>OFF-ST-10000760</td>\n",
       "      <td>Office Supplies</td>\n",
       "      <td>Storage</td>\n",
       "      <td>Eldon Fold 'N Roll Cart System</td>\n",
       "      <td>22.3680</td>\n",
       "      <td>2</td>\n",
       "      <td>0.20</td>\n",
       "      <td>2.5164</td>\n",
       "    </tr>\n",
       "  </tbody>\n",
       "</table>\n",
       "<p>5 rows × 21 columns</p>\n",
       "</div>"
      ],
      "text/plain": [
       "   Row ID        Order ID Order Date  Ship Date       Ship Mode Customer ID  \\\n",
       "0       1  CA-2016-152156 2016-11-08 2016-11-11    Second Class    CG-12520   \n",
       "1       2  CA-2016-152156 2016-11-08 2016-11-11    Second Class    CG-12520   \n",
       "2       3  CA-2016-138688 2016-06-12 2016-06-16    Second Class    DV-13045   \n",
       "3       4  US-2015-108966 2015-10-11 2015-10-18  Standard Class    SO-20335   \n",
       "4       5  US-2015-108966 2015-10-11 2015-10-18  Standard Class    SO-20335   \n",
       "\n",
       "     Customer Name    Segment        Country             City  ...  \\\n",
       "0      Claire Gute   Consumer  United States        Henderson  ...   \n",
       "1      Claire Gute   Consumer  United States        Henderson  ...   \n",
       "2  Darrin Van Huff  Corporate  United States      Los Angeles  ...   \n",
       "3   Sean O'Donnell   Consumer  United States  Fort Lauderdale  ...   \n",
       "4   Sean O'Donnell   Consumer  United States  Fort Lauderdale  ...   \n",
       "\n",
       "  Postal Code  Region       Product ID         Category Sub-Category  \\\n",
       "0       42420   South  FUR-BO-10001798        Furniture    Bookcases   \n",
       "1       42420   South  FUR-CH-10000454        Furniture       Chairs   \n",
       "2       90036    West  OFF-LA-10000240  Office Supplies       Labels   \n",
       "3       33311   South  FUR-TA-10000577        Furniture       Tables   \n",
       "4       33311   South  OFF-ST-10000760  Office Supplies      Storage   \n",
       "\n",
       "                                        Product Name     Sales  Quantity  \\\n",
       "0                  Bush Somerset Collection Bookcase  261.9600         2   \n",
       "1  Hon Deluxe Fabric Upholstered Stacking Chairs,...  731.9400         3   \n",
       "2  Self-Adhesive Address Labels for Typewriters b...   14.6200         2   \n",
       "3      Bretford CR4500 Series Slim Rectangular Table  957.5775         5   \n",
       "4                     Eldon Fold 'N Roll Cart System   22.3680         2   \n",
       "\n",
       "   Discount    Profit  \n",
       "0      0.00   41.9136  \n",
       "1      0.00  219.5820  \n",
       "2      0.00    6.8714  \n",
       "3      0.45 -383.0310  \n",
       "4      0.20    2.5164  \n",
       "\n",
       "[5 rows x 21 columns]"
      ]
     },
     "execution_count": 5,
     "metadata": {},
     "output_type": "execute_result"
    }
   ],
   "source": [
    "# Import Excel file\n",
    "data = pd.read_excel('Sample - Superstore.xls')\n",
    "\n",
    "# Print the first 5 rows of the DataFrame\n",
    "data.head()"
   ]
  },
  {
   "cell_type": "code",
   "execution_count": 6,
   "id": "10cb664397dd46c7",
   "metadata": {
    "ExecuteTime": {
     "end_time": "2023-09-21T10:09:47.411725100Z",
     "start_time": "2023-09-21T10:09:46.645849700Z"
    }
   },
   "outputs": [],
   "source": [
    "# Specify the path to the Excel file\n",
    "excel_file_path = ('Sample - Superstore.csv') # Replace with the actual path to your Excel file\n",
    "\n",
    "# Specify the names of the worksheets you want to import\n",
    "sheet1_name = 'Orders'  # Replace with the actual name of the first worksheet\n",
    "sheet2_name = 'Returns'  # Replace with the actual name of the second worksheet\n",
    "sheet3_name = 'People'   # Replace with the actual name of the second worksheet\n",
    "\n",
    "# Import the specified worksheets into separate DataFrames\n",
    "sheet1_df = pd.read_excel('Sample - Superstore.xls', sheet_name=sheet1_name)\n",
    "sheet2_df = pd.read_excel('Sample - Superstore.xls', sheet_name=sheet2_name)\n",
    "sheet3_df = pd.read_excel('Sample - Superstore.xls', sheet_name=sheet3_name)"
   ]
  },
  {
   "cell_type": "code",
   "execution_count": 7,
   "id": "3325484d",
   "metadata": {},
   "outputs": [],
   "source": [
    "# Merge sheet1_df and sheet2_df based on a common column (e.g., \"Order ID\" or any other common column)\n",
    "merged_df = sheet1_df.merge(sheet2_df, on=\"Order ID\", how=\"outer\")\n",
    "\n",
    "# Merge the result with sheet3_df based on a common column (e.g., \"Region\" or any other common column)\n",
    "final_merged_df = merged_df.merge(sheet3_df, on=\"Region\", how=\"left\")\n",
    "\n",
    "# Now you have a DataFrame that combines data from all three sheets"
   ]
  },
  {
   "cell_type": "markdown",
   "id": "7cd77335723923ab",
   "metadata": {},
   "source": [
    "## Q1) Which Area Managers has the best performance in terms of Sales ?"
   ]
  },
  {
   "cell_type": "code",
   "execution_count": 24,
   "id": "77c974d8",
   "metadata": {},
   "outputs": [
    {
     "name": "stdout",
     "output_type": "stream",
     "text": [
      "The Area Manager with the best performance in terms of sales is: Anna Andreadi\n",
      "Total Sales: 725457.8245\n"
     ]
    }
   ],
   "source": [
    "# Assuming sheet1_df contains the data of sales and regions\n",
    "# Assuming sheet3_df contains the data of Area Managers and their regions\n",
    "# Merge sheet1_df and sheet3_df based on the \"Region\" or \"Area\" column\n",
    "merged_df = pd.merge(sheet1_df, sheet3_df, on=\"Region\", how=\"left\")\n",
    "\n",
    "# Calculate total sales for each Area Manager\n",
    "area_manager_sales = merged_df.groupby(\"Person\")[\"Sales\"].sum().reset_index()\n",
    "\n",
    "# # Find the Area Manager with the best performance in terms of sales\n",
    "best_area_manager = area_manager_sales.loc[area_manager_sales[\"Sales\"].idxmax()]\n",
    "\n",
    "print(\"The Area Manager with the best performance in terms of sales is:\", best_area_manager[\"Person\"])\n",
    "print(\"Total Sales:\", best_area_manager[\"Sales\"])\n",
    "# area_manager_sales.head(1)"
   ]
  },
  {
   "cell_type": "markdown",
   "id": "1e88aaf0a9e1e7ab",
   "metadata": {},
   "source": [
    "## Q2 Which Area Manager needs to be fired or demoted as having the Highest Returns ?\n"
   ]
  },
  {
   "cell_type": "code",
   "execution_count": 34,
   "id": "9e964a14",
   "metadata": {},
   "outputs": [
    {
     "name": "stdout",
     "output_type": "stream",
     "text": [
      "Below Manager needs to be fired or demoted as they have the Highest Returns:\n",
      "Anna Andreadi\n"
     ]
    }
   ],
   "source": [
    "# Define a mapping dictionary for 'Yes' and 'No'\n",
    "mapping = {'Yes': 1, 'No': 0}\n",
    "\n",
    "# Map the 'Returned' column to numeric values\n",
    "final_merged_df['Returned'] = final_merged_df['Returned'].map(mapping)\n",
    "\n",
    "# Calculate total returns for each Area Manager\n",
    "area_returns = final_merged_df.groupby(\"Person\")[\"Returned\"].sum().reset_index()\n",
    "\n",
    "# Find the Area Manager with the highest returns\n",
    "manager_with_highest_returns = area_returns.loc[area_returns['Returned'].idxmax()][\"Person\"]\n",
    "\n",
    "print('Below Manager needs to be fired or demoted as they have the Highest Returns:')\n",
    "print(manager_with_highest_returns)"
   ]
  },
  {
   "cell_type": "markdown",
   "id": "3e6ca4d6b6d8bcb6",
   "metadata": {},
   "source": [
    "## Q3 Which Area Manager has highest on an average delay in orders of dispatch from order date and shipment date give a sub category wise average delay in orders as well ? "
   ]
  },
  {
   "cell_type": "code",
   "execution_count": 10,
   "id": "28cfde1a",
   "metadata": {},
   "outputs": [
    {
     "name": "stdout",
     "output_type": "stream",
     "text": [
      "Area Manager with the highest average delay in orders:\n",
      "Manager: Kelly Williams\n",
      "Average Delay (days): 4.058114507102884\n",
      "\n",
      "Subcategory-wise average delay in orders:\n",
      "   Sub-Category  Order_Shipment_Delay\n",
      "0   Accessories              3.886452\n",
      "1    Appliances              3.989270\n",
      "2           Art              4.054020\n",
      "3       Binders              4.022324\n",
      "4     Bookcases              3.811404\n",
      "5        Chairs              3.899514\n",
      "6       Copiers              3.617647\n",
      "7     Envelopes              4.015748\n",
      "8     Fasteners              3.976959\n",
      "9   Furnishings              3.961338\n",
      "10       Labels              4.002747\n",
      "11     Machines              3.747826\n",
      "12        Paper              3.887591\n",
      "13       Phones              4.001125\n",
      "14      Storage              3.975177\n",
      "15     Supplies              4.015789\n",
      "16       Tables              3.893417\n"
     ]
    }
   ],
   "source": [
    "# Assuming final_merged_df contains the merged data\n",
    "# Convert \"Order Date\" and \"Ship Date\" to datetime\n",
    "final_merged_df[\"Order Date\"] = pd.to_datetime(final_merged_df[\"Order Date\"])\n",
    "final_merged_df[\"Ship Date\"] = pd.to_datetime(final_merged_df[\"Ship Date\"])\n",
    "\n",
    "# Calculate the delay in orders\n",
    "final_merged_df[\"Order_Shipment_Delay\"] = (final_merged_df[\"Ship Date\"] - final_merged_df[\"Order Date\"]).dt.days\n",
    "\n",
    "# Calculate the average delay for each Area Manager\n",
    "area_manager_avg_delay = final_merged_df.groupby(\"Person\")[\"Order_Shipment_Delay\"].mean().reset_index()\n",
    "\n",
    "# Find the Area Manager with the highest average delay\n",
    "manager_with_highest_avg_delay = area_manager_avg_delay.loc[area_manager_avg_delay['Order_Shipment_Delay'].idxmax()]\n",
    "\n",
    "# Calculate the subcategory-wise average delay\n",
    "subcategory_avg_delay = final_merged_df.groupby(\"Sub-Category\")[\"Order_Shipment_Delay\"].mean().reset_index()\n",
    "\n",
    "# Display the results\n",
    "print(\"Area Manager with the highest average delay in orders:\")\n",
    "print(\"Manager:\", manager_with_highest_avg_delay[\"Person\"])\n",
    "print(\"Average Delay (days):\", manager_with_highest_avg_delay[\"Order_Shipment_Delay\"])\n",
    "\n",
    "print(\"\\nSubcategory-wise average delay in orders:\")\n",
    "print(subcategory_avg_delay)"
   ]
  },
  {
   "cell_type": "markdown",
   "id": "9da26c2fdcc0f69d",
   "metadata": {},
   "source": [
    "##  Q4 What are the Top 5 sub-categories and how much percent of total value and percent of total volume is stored?"
   ]
  },
  {
   "cell_type": "code",
   "execution_count": 11,
   "id": "5edad541e28c5804",
   "metadata": {
    "ExecuteTime": {
     "end_time": "2023-09-21T10:09:53.760203700Z",
     "start_time": "2023-09-21T10:09:53.749735700Z"
    }
   },
   "outputs": [
    {
     "name": "stdout",
     "output_type": "stream",
     "text": [
      "Top 5 subcategories by % of total value sold:\n",
      "   Sub-Category  Percentage-of-Total-Sales\n",
      "13       Phones                  14.365616\n",
      "5        Chairs                  14.297796\n",
      "14      Storage                   9.744190\n",
      "16       Tables                   9.009466\n",
      "3       Binders                   8.854808\n"
     ]
    }
   ],
   "source": [
    "# Find the top 5 subcategories and their % of total value sold\n",
    "subcategory_sales = data.groupby(\"Sub-Category\")[\"Sales\"].sum().reset_index()\n",
    "subcategory_sales[\"Percentage of Total Sales\"] = (subcategory_sales[\"Sales\"] / subcategory_sales[\"Sales\"].sum()) * 100\n",
    "top_5_subcategories = subcategory_sales.nlargest(5, \"Sales\")\n",
    "top_5_subcategories = top_5_subcategories.rename(columns={\"Percentage of Total Sales\": \"Percentage-of-Total-Sales\"})\n",
    "print(\"Top 5 subcategories by % of total value sold:\")\n",
    "print(top_5_subcategories[[\"Sub-Category\", \"Percentage-of-Total-Sales\"]])"
   ]
  },
  {
   "cell_type": "markdown",
   "id": "e5c52d6cfd5b5add",
   "metadata": {},
   "source": [
    "##  Q5 Give the top 5 states who has more improved sales figures in terms of sales in year 2016 vs 2017.\n",
    "## Also share your comment, for the reason (root cause analysis) behind their improvised sales) mention the growth factors to whom these growth can be attributed and create a column chart for all the states for 2016 vs 2017"
   ]
  },
  {
   "cell_type": "code",
   "execution_count": 12,
   "id": "67a1f28c",
   "metadata": {},
   "outputs": [
    {
     "name": "stdout",
     "output_type": "stream",
     "text": [
      "Top 5 States with Most Improved Sales (2016 vs. 2017):\n",
      "         State  Sales_Improvement\n",
      "41  Washington          45725.612\n",
      "28    New York          22078.893\n",
      "3   California          14836.433\n",
      "36   Tennessee          12983.329\n",
      "8      Florida          12841.432\n"
     ]
    }
   ],
   "source": [
    "# Filter data for the year 2016 and 2017\n",
    "data_2016 = final_merged_df[final_merged_df['Order Date'].dt.year == 2016]\n",
    "data_2017 = final_merged_df[final_merged_df['Order Date'].dt.year == 2017]\n",
    "\n",
    "# Calculate total sales for each state in 2016 and 2017\n",
    "sales_2016 = data_2016.groupby(\"State\")[\"Sales\"].sum().reset_index()\n",
    "sales_2017 = data_2017.groupby(\"State\")[\"Sales\"].sum().reset_index()\n",
    "\n",
    "# Merge the two DataFrames to compare sales between the two years\n",
    "sales_comparison = pd.merge(sales_2016, sales_2017, on=\"State\", suffixes=(\"_2016\", \"_2017\"))\n",
    "\n",
    "# Calculate the improvement in sales\n",
    "sales_comparison[\"Sales_Improvement\"] = sales_comparison[\"Sales_2017\"] - sales_comparison[\"Sales_2016\"]\n",
    "\n",
    "# Sort by sales improvement in descending order and select the top 5 states\n",
    "top_5_improvement = sales_comparison.sort_values(by=\"Sales_Improvement\", ascending=False).head(5)\n",
    "\n",
    "# Print the top 5 states with sales improvement and their improvement figures\n",
    "print(\"Top 5 States with Most Improved Sales (2016 vs. 2017):\")\n",
    "print(top_5_improvement[[\"State\", \"Sales_Improvement\"]])"
   ]
  },
  {
   "cell_type": "markdown",
   "id": "76e4e2dc",
   "metadata": {},
   "source": [
    "Now, let's analyze some potential growth factors attributed to the improved sales in these states:\n",
    "\n",
    "California:\n",
    "\n",
    "~High Economic Activity: California has a robust economy with diverse industries, contributing to increased business opportunities.\n",
    "~Population Growth: A growing population means a larger customer base.\n",
    "~Tech Industry: The presence of the tech industry can drive higher spending on office equipment and technology products.\n",
    "\n",
    "New York:\n",
    "\n",
    "~Financial Hub: New York is a global financial center, leading to increased sales in financial services and related products.\n",
    "~Tourism: New York City attracts tourists, resulting in higher retail sales.\n",
    "~Luxury Market: High-end retailers in New York cater to luxury consumers.\n",
    "\n",
    "\n",
    "Washington:\n",
    "\n",
    "~Tech Industry: Washington is home to tech giants like Amazon and Microsoft, impacting office and tech equipment sales.\n",
    "~Innovation: Innovation and research-driven industries contribute to increased demand for office supplies.\n",
    "~Growing Startups: A thriving startup ecosystem leads to higher spending on business essentials.\n",
    "\n",
    "Tennessee:\n",
    "\n",
    "~Local Initiatives: Statewide programs or initiatives supporting local businesses could have boosted sales.\n",
    "~Supply Chain Improvements: Streamlining supply chain operations might have led to better product availability and faster deliveries.\n",
    "~Customer Engagement: Engaging customers through loyalty programs or personalized offers may have increased sales.\n",
    "\n",
    "Florida:\n",
    "\n",
    "~Tourism Impact: If Florida is a tourist destination, an increase in tourism could have driven sales in various industries.\n",
    "~Seasonal Trends: Seasonal businesses might have thrived during peak seasons, contributing to overall sales growth.\n",
    "~Online Presence: A strong online presence and e-commerce strategies may have expanded the customer base."
   ]
  },
  {
   "cell_type": "code",
   "execution_count": 13,
   "id": "21b2390e",
   "metadata": {},
   "outputs": [
    {
     "data": {
      "image/png": "[encoded data removed]",
      "text/plain": [
       "<Figure size 1800x1000 with 1 Axes>"
      ]
     },
     "metadata": {},
     "output_type": "display_data"
    }
   ],
   "source": [
    "# Assuming sales_comparison contains the data\n",
    "# Sort the data by State for better alignment\n",
    "sales_comparison = sales_comparison.sort_values(by=\"State\")\n",
    "\n",
    "# Create figure and axis\n",
    "fig, ax = plt.subplots(figsize=(18, 10))\n",
    "\n",
    "# Get the list of state names from the data\n",
    "state_labels = sales_comparison[\"State\"]\n",
    "\n",
    "# Define the width of each bar group (increased for thicker bars)\n",
    "bar_width = 0.5  # Adjust the width as needed\n",
    "\n",
    "# Set the positions for the bars\n",
    "index = np.arange(len(sales_comparison))\n",
    "\n",
    "# Create a bar for 2016 sales\n",
    "bar1 = plt.bar(index - bar_width/2, sales_comparison[\"Sales_2016\"], bar_width, label=\"2016 Sales\", color='red', alpha=0.7)\n",
    "\n",
    "# Create a bar for 2017 sales\n",
    "bar2 = plt.bar(index + bar_width/2, sales_comparison[\"Sales_2017\"], bar_width, label=\"2017 Sales\", color='green', alpha=0.7)\n",
    "\n",
    "# Set x-axis tick labels to state_labels\n",
    "ax.set_xticks(index)\n",
    "ax.set_xticklabels(state_labels, rotation=90, fontsize=12)  # Increase the font size\n",
    "\n",
    "# Add labels and a legend with increased font size\n",
    "plt.xlabel(\"State\", fontsize=20)  # Increase x-axis label font size\n",
    "plt.ylabel(\"Sales\", fontsize=20)  # Increase y-axis label font size\n",
    "plt.title(\"Sales Comparison by State (2016 vs. 2017)\", fontsize=22)  # Increase title font size\n",
    "plt.legend(fontsize=18)  # Increase legend font size\n",
    "\n",
    "# Show the chart\n",
    "plt.tight_layout()\n",
    "plt.show()"
   ]
  },
  {
   "cell_type": "markdown",
   "id": "ad652b488ba58796",
   "metadata": {},
   "source": [
    "## Q6 Which Area Manager has the best performance in terms of Sales Improvement (2016 to 2017) ?"
   ]
  },
  {
   "cell_type": "code",
   "execution_count": 14,
   "id": "c15cfdaf",
   "metadata": {},
   "outputs": [
    {
     "name": "stdout",
     "output_type": "stream",
     "text": [
      "Area Manager with the Best Sales Improvement (2016 to 2017):\n",
      "              Person  Sales_Improvement\n",
      "0      Anna Andreadi         62648.1890\n",
      "2        Chuck Magee         32397.0820\n",
      "1  Cassandra Brandow         29295.6340\n",
      "3     Kelly Williams          -331.2478\n"
     ]
    }
   ],
   "source": [
    "# Filter data for the year 2016 and 2017\n",
    "data_2016 = final_merged_df[final_merged_df['Order Date'].dt.year == 2016]\n",
    "data_2017 = final_merged_df[final_merged_df['Order Date'].dt.year == 2017]\n",
    "\n",
    "# Calculate total sales for each Area Manager in 2016 and 2017\n",
    "sales_2016 = data_2016.groupby(\"Person\")[\"Sales\"].sum().reset_index()\n",
    "sales_2017 = data_2017.groupby(\"Person\")[\"Sales\"].sum().reset_index()\n",
    "\n",
    "# Merge the two DataFrames to compare sales between the two years\n",
    "sales_comparison = pd.merge(sales_2016, sales_2017, on=\"Person\", suffixes=(\"_2016\", \"_2017\"))\n",
    "\n",
    "# Calculate the improvement in sales\n",
    "sales_comparison[\"Sales_Improvement\"] = sales_comparison[\"Sales_2017\"] - sales_comparison[\"Sales_2016\"]\n",
    "\n",
    "# Sort by sales improvement in descending order\n",
    "sales_comparison = sales_comparison.sort_values(by=\"Sales_Improvement\", ascending=False).head(5)\n",
    "\n",
    "# Get the Area Manager with the best sales improvement\n",
    "best_area_manager = sales_comparison.head(5)\n",
    "\n",
    "# Print the Area Manager with the best sales improvement\n",
    "print(\"Area Manager with the Best Sales Improvement (2016 to 2017):\")\n",
    "print(best_area_manager[[\"Person\", \"Sales_Improvement\"]])"
   ]
  },
  {
   "cell_type": "markdown",
   "id": "fe5b0f723f64a2b3",
   "metadata": {},
   "source": [
    "## Q7 Which Area Manager needs to be fired or demoted as having the highest return value based on 2017 vs 2016?"
   ]
  },
  {
   "cell_type": "code",
   "execution_count": 15,
   "id": "4665371c",
   "metadata": {},
   "outputs": [
    {
     "name": "stdout",
     "output_type": "stream",
     "text": [
      "Area Manager with the Highest Return Increase (2017 vs. 2016):\n",
      "Person             Anna Andreadi\n",
      "Return_Increase               63\n",
      "Name: 0, dtype: object\n"
     ]
    }
   ],
   "source": [
    "# Calculate total returns for each Area Manager in 2016 and 2017\n",
    "returns_2016 = data_2016[data_2016['Returned'] == 1.0].groupby(\"Person\")[\"Returned\"].count().reset_index()\n",
    "returns_2017 = data_2017[data_2017['Returned'] == 1.0].groupby(\"Person\")[\"Returned\"].count().reset_index()\n",
    "\n",
    "# Merge the two DataFrames to compare returns between the two years\n",
    "returns_comparison = pd.merge(returns_2016, returns_2017, on=\"Person\", suffixes=(\"_2016\", \"_2017\"))\n",
    "\n",
    "# Calculate the increase in returns\n",
    "returns_comparison[\"Return_Increase\"] = returns_comparison[\"Returned_2017\"] - returns_comparison[\"Returned_2016\"]\n",
    "\n",
    "# Sort by return increase in descending order\n",
    "returns_comparison = returns_comparison.sort_values(by=\"Return_Increase\", ascending=False).reset_index(drop=True)\n",
    "\n",
    "# Check if there are any Area Managers with return increases\n",
    "if not returns_comparison.empty:\n",
    "    # Get the Area Manager with the highest return increase\n",
    "    worst_area_manager = returns_comparison.iloc[0]\n",
    "\n",
    "    # Print the Area Manager with the highest return increase\n",
    "    print(\"Area Manager with the Highest Return Increase (2017 vs. 2016):\")\n",
    "    print(worst_area_manager[[\"Person\", \"Return_Increase\"]])\n",
    "else:\n",
    "    print(\"No Area Manager had a return increase in 2017 compared to 2016.\")"
   ]
  },
  {
   "cell_type": "markdown",
   "id": "a0d248452b7b1eb6",
   "metadata": {},
   "source": [
    "## Q8 How much year on year growth rate sales has been improved(CAGR) per region for the given years?"
   ]
  },
  {
   "cell_type": "markdown",
   "id": "09b5e476",
   "metadata": {},
   "source": [
    "## PER REGION (CAGR)"
   ]
  },
  {
   "cell_type": "code",
   "execution_count": 16,
   "id": "e97a544a",
   "metadata": {},
   "outputs": [
    {
     "name": "stdout",
     "output_type": "stream",
     "text": [
      "CAGR of Sales (2014-2017) by Region:\n",
      "    Region   CAGR\n",
      "3     West  19.15\n",
      "1     East  18.31\n",
      "0  Central  12.31\n",
      "2    South   5.78\n"
     ]
    }
   ],
   "source": [
    "# Filter data for the specified years\n",
    "data_start = final_merged_df[final_merged_df['Order Date'].dt.year == 2014]\n",
    "data_end = final_merged_df[final_merged_df['Order Date'].dt.year == 2017]\n",
    "\n",
    "# Calculate total sales for each region in the start and end years\n",
    "sales_start = data_start.groupby(\"Region\")[\"Sales\"].sum().reset_index()\n",
    "sales_end = data_end.groupby(\"Region\")[\"Sales\"].sum().reset_index()\n",
    "\n",
    "# Merge the two DataFrames to compare sales between the two years\n",
    "sales_comparison = pd.merge(sales_start, sales_end, on=\"Region\", suffixes=(\"_2014\", \"_2017\"))\n",
    "\n",
    "# Calculate the CAGR for each region\n",
    "sales_comparison[\"CAGR\"] = ((sales_comparison[\"Sales_2017\"] / sales_comparison[\"Sales_2014\"]) ** (1 / 3)) - 1  # Since it's year-on-year over 3 years\n",
    "\n",
    "# Convert CAGR to a percentage and round off to 2 decimal places\n",
    "sales_comparison[\"CAGR\"] = (sales_comparison[\"CAGR\"] * 100).round(2)\n",
    "\n",
    "# Sort the DataFrame by CAGR in descending order\n",
    "sales_comparison = sales_comparison.sort_values(by=\"CAGR\", ascending=False)\n",
    "\n",
    "# Print the sorted CAGR for each region\n",
    "print(\"CAGR of Sales (2014-2017) by Region:\")\n",
    "print(sales_comparison[[\"Region\", \"CAGR\"]])"
   ]
  },
  {
   "cell_type": "markdown",
   "id": "f0e10965",
   "metadata": {},
   "source": [
    "## Overall (CAGR)"
   ]
  },
  {
   "cell_type": "code",
   "execution_count": 17,
   "id": "6631c479",
   "metadata": {},
   "outputs": [
    {
     "name": "stdout",
     "output_type": "stream",
     "text": [
      "Overall CAGR of Sales (2014-2017): 14.83\n"
     ]
    }
   ],
   "source": [
    "# Filter data for the specified years\n",
    "data_start = final_merged_df[final_merged_df['Order Date'].dt.year == 2014]\n",
    "data_end = final_merged_df[final_merged_df['Order Date'].dt.year == 2017]\n",
    "\n",
    "# Calculate total sales for all regions in the start and end years\n",
    "total_sales_start = data_start[\"Sales\"].sum()\n",
    "total_sales_end = data_end[\"Sales\"].sum()\n",
    "\n",
    "# Calculate the overall CAGR\n",
    "overall_cagr = ((total_sales_end / total_sales_start) ** (1 / 3)) - 1  # Since it's year-on-year over 3 years\n",
    "\n",
    "# Convert CAGR to a percentage and round off to 2 decimal places\n",
    "overall_cagr_percentage = (overall_cagr * 100).round(2)\n",
    "\n",
    "# Print the overall CAGR\n",
    "print(\"Overall CAGR of Sales (2014-2017):\", overall_cagr_percentage)"
   ]
  },
  {
   "cell_type": "code",
   "execution_count": null,
   "id": "a3a87ced",
   "metadata": {},
   "outputs": [],
   "source": []
  }
 ],
 "metadata": {
  "kernelspec": {
   "display_name": "Python 3 (ipykernel)",
   "language": "python",
   "name": "python3"
  },
  "language_info": {
   "codemirror_mode": {
    "name": "ipython",
    "version": 3
   },
   "file_extension": ".py",
   "mimetype": "text/x-python",
   "name": "python",
   "nbconvert_exporter": "python",
   "pygments_lexer": "ipython3",
   "version": "3.11.3"
  }
 },
 "nbformat": 4,
 "nbformat_minor": 5
}
